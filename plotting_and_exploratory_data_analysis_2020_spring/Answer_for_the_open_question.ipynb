{
  "nbformat": 4,
  "nbformat_minor": 0,
  "metadata": {
    "colab": {
      "name": "Answer_for_the_open_question.ipynb",
      "provenance": [],
      "collapsed_sections": []
    },
    "kernelspec": {
      "name": "python3",
      "display_name": "Python 3"
    }
  },
  "cells": [
    {
      "cell_type": "code",
      "metadata": {
        "id": "C6evRjCqVJIB"
      },
      "source": [
        "import pandas as pd\n",
        "import warnings\n",
        "warnings.filterwarnings('ignore')\n",
        "#!pip3 install --upgrade seaborn cufflinks plotly\n",
        "import numpy as np\n",
        "import matplotlib.pyplot as plt\n",
        "import seaborn as sns\n",
        "%matplotlib inline"
      ],
      "execution_count": null,
      "outputs": []
    },
    {
      "cell_type": "markdown",
      "metadata": {
        "id": "2fu5wKpQZGdF"
      },
      "source": [
        "# Sharing homework on `planets` dataset\n",
        "\n"
      ]
    },
    {
      "cell_type": "markdown",
      "metadata": {
        "id": "vK9TRsyYaRti"
      },
      "source": [
        "`planets` is a new dataset from seaborn that we have never explored. You can find the code to run it in the cell below.\n",
        "\n",
        "This file was produced by the NASA Exoplanet Archive  http://exoplanetarchive.ipac.caltech.edu\n",
        "Sat Feb 15 11:18:19 2014\n",
        "\n",
        "* `method`:              `Discovery Method`\n",
        "* `number`:              `Number of Planets in System`\n",
        "* `orbital_period`:      `Orbital Period (val)`\n",
        "* `mass`:                `Planet M*sin(i) [jup] (val)`\n",
        "* `distance`:            `Distance (val)`\n",
        "* `year`:                `Year of Discovery`\n",
        "---\n",
        "\n",
        "\n",
        "* Questions\n",
        "* Hypothesis\n",
        "* Verify by plotting"
      ]
    },
    {
      "cell_type": "code",
      "metadata": {
        "id": "_vzNaD4MZJ2Z"
      },
      "source": [
        "planets = sns.load_dataset('planets')"
      ],
      "execution_count": null,
      "outputs": []
    },
    {
      "cell_type": "code",
      "metadata": {
        "id": "nZFOhkyZZLuT",
        "outputId": "c5a73408-ea0d-44dd-f288-bb0613f43820",
        "colab": {
          "base_uri": "https://localhost:8080/",
          "height": 203
        }
      },
      "source": [
        "planets.head()"
      ],
      "execution_count": null,
      "outputs": [
        {
          "output_type": "execute_result",
          "data": {
            "text/html": [
              "<div>\n",
              "<style scoped>\n",
              "    .dataframe tbody tr th:only-of-type {\n",
              "        vertical-align: middle;\n",
              "    }\n",
              "\n",
              "    .dataframe tbody tr th {\n",
              "        vertical-align: top;\n",
              "    }\n",
              "\n",
              "    .dataframe thead th {\n",
              "        text-align: right;\n",
              "    }\n",
              "</style>\n",
              "<table border=\"1\" class=\"dataframe\">\n",
              "  <thead>\n",
              "    <tr style=\"text-align: right;\">\n",
              "      <th></th>\n",
              "      <th>method</th>\n",
              "      <th>number</th>\n",
              "      <th>orbital_period</th>\n",
              "      <th>mass</th>\n",
              "      <th>distance</th>\n",
              "      <th>year</th>\n",
              "    </tr>\n",
              "  </thead>\n",
              "  <tbody>\n",
              "    <tr>\n",
              "      <th>0</th>\n",
              "      <td>Radial Velocity</td>\n",
              "      <td>1</td>\n",
              "      <td>269.300</td>\n",
              "      <td>7.10</td>\n",
              "      <td>77.40</td>\n",
              "      <td>2006</td>\n",
              "    </tr>\n",
              "    <tr>\n",
              "      <th>1</th>\n",
              "      <td>Radial Velocity</td>\n",
              "      <td>1</td>\n",
              "      <td>874.774</td>\n",
              "      <td>2.21</td>\n",
              "      <td>56.95</td>\n",
              "      <td>2008</td>\n",
              "    </tr>\n",
              "    <tr>\n",
              "      <th>2</th>\n",
              "      <td>Radial Velocity</td>\n",
              "      <td>1</td>\n",
              "      <td>763.000</td>\n",
              "      <td>2.60</td>\n",
              "      <td>19.84</td>\n",
              "      <td>2011</td>\n",
              "    </tr>\n",
              "    <tr>\n",
              "      <th>3</th>\n",
              "      <td>Radial Velocity</td>\n",
              "      <td>1</td>\n",
              "      <td>326.030</td>\n",
              "      <td>19.40</td>\n",
              "      <td>110.62</td>\n",
              "      <td>2007</td>\n",
              "    </tr>\n",
              "    <tr>\n",
              "      <th>4</th>\n",
              "      <td>Radial Velocity</td>\n",
              "      <td>1</td>\n",
              "      <td>516.220</td>\n",
              "      <td>10.50</td>\n",
              "      <td>119.47</td>\n",
              "      <td>2009</td>\n",
              "    </tr>\n",
              "  </tbody>\n",
              "</table>\n",
              "</div>"
            ],
            "text/plain": [
              "            method  number  orbital_period   mass  distance  year\n",
              "0  Radial Velocity       1         269.300   7.10     77.40  2006\n",
              "1  Radial Velocity       1         874.774   2.21     56.95  2008\n",
              "2  Radial Velocity       1         763.000   2.60     19.84  2011\n",
              "3  Radial Velocity       1         326.030  19.40    110.62  2007\n",
              "4  Radial Velocity       1         516.220  10.50    119.47  2009"
            ]
          },
          "metadata": {
            "tags": []
          },
          "execution_count": 3
        }
      ]
    },
    {
      "cell_type": "markdown",
      "metadata": {
        "id": "X963c9Mdio-z"
      },
      "source": [
        "- is there any relationship between orbital period and the mass?\n",
        "- hypothesis: lighter planet may travel much faster than a heavier planet\n",
        "\n"
      ]
    },
    {
      "cell_type": "code",
      "metadata": {
        "id": "oO-FxQ6rjBas",
        "outputId": "833679b9-f00f-4ecf-aa15-36855c386851",
        "colab": {
          "base_uri": "https://localhost:8080/",
          "height": 298
        }
      },
      "source": [
        "sns.scatterplot(x='orbital_period', \n",
        "                y='mass', \n",
        "                data=planets)\n",
        "plt.xlim(0, 5000)\n",
        "plt.ylim(0, 15)\n",
        ";"
      ],
      "execution_count": null,
      "outputs": [
        {
          "output_type": "execute_result",
          "data": {
            "application/vnd.google.colaboratory.intrinsic+json": {
              "type": "string"
            },
            "text/plain": [
              "''"
            ]
          },
          "metadata": {
            "tags": []
          },
          "execution_count": 11
        },
        {
          "output_type": "display_data",
          "data": {
            "image/png": "[encoded data removed]",
            "text/plain": [
              "<Figure size 432x288 with 1 Axes>"
            ]
          },
          "metadata": {
            "tags": [],
            "needs_background": "light"
          }
        }
      ]
    },
    {
      "cell_type": "code",
      "metadata": {
        "id": "63eocJ_9kjsr",
        "outputId": "a10fb4cc-b643-4077-bf07-da9d5679aa5e",
        "colab": {
          "base_uri": "https://localhost:8080/",
          "height": 297
        }
      },
      "source": [
        "sns.boxplot('mass', data= planets)"
      ],
      "execution_count": null,
      "outputs": [
        {
          "output_type": "execute_result",
          "data": {
            "text/plain": [
              "<matplotlib.axes._subplots.AxesSubplot at 0x7fc39a269b70>"
            ]
          },
          "metadata": {
            "tags": []
          },
          "execution_count": 12
        },
        {
          "output_type": "display_data",
          "data": {
            "image/png": "[encoded data removed]",
            "text/plain": [
              "<Figure size 432x288 with 1 Axes>"
            ]
          },
          "metadata": {
            "tags": [],
            "needs_background": "light"
          }
        }
      ]
    },
    {
      "cell_type": "code",
      "metadata": {
        "id": "we6_rXfbk5SB",
        "outputId": "75c7cee1-539e-4d3b-947c-7067170e5e30",
        "colab": {
          "base_uri": "https://localhost:8080/",
          "height": 297
        }
      },
      "source": [
        "sns.boxplot('orbital_period', data= planets)\n",
        "plt.xlim(0,3000)"
      ],
      "execution_count": null,
      "outputs": [
        {
          "output_type": "execute_result",
          "data": {
            "text/plain": [
              "(0.0, 3000.0)"
            ]
          },
          "metadata": {
            "tags": []
          },
          "execution_count": 17
        },
        {
          "output_type": "display_data",
          "data": {
            "image/png": "[encoded data removed]",
            "text/plain": [
              "<Figure size 432x288 with 1 Axes>"
            ]
          },
          "metadata": {
            "tags": [],
            "needs_background": "light"
          }
        }
      ]
    },
    {
      "cell_type": "code",
      "metadata": {
        "id": "lJfbmHZdldMy"
      },
      "source": [
        "median_mass = planets.mass.median()\n",
        "upper_bound_mass = 7\n",
        "mass_category = []\n",
        "for mass in planets.mass:\n",
        "  if mass < median_mass:\n",
        "    mass_category.append('light_weight')\n",
        "  elif mass < upper_bound_mass:\n",
        "    mass_category.append('middle weight')\n",
        "  else:\n",
        "    mass_category.append('high weight')"
      ],
      "execution_count": null,
      "outputs": []
    },
    {
      "cell_type": "code",
      "metadata": {
        "id": "Mrwxj9TnmY0k",
        "outputId": "c2b14a5e-26b1-41da-a1e8-597231e387d5",
        "colab": {
          "base_uri": "https://localhost:8080/",
          "height": 203
        }
      },
      "source": [
        "planets['mass_category'] = mass_category\n",
        "\n",
        "planets.head()\n"
      ],
      "execution_count": null,
      "outputs": [
        {
          "output_type": "execute_result",
          "data": {
            "text/html": [
              "<div>\n",
              "<style scoped>\n",
              "    .dataframe tbody tr th:only-of-type {\n",
              "        vertical-align: middle;\n",
              "    }\n",
              "\n",
              "    .dataframe tbody tr th {\n",
              "        vertical-align: top;\n",
              "    }\n",
              "\n",
              "    .dataframe thead th {\n",
              "        text-align: right;\n",
              "    }\n",
              "</style>\n",
              "<table border=\"1\" class=\"dataframe\">\n",
              "  <thead>\n",
              "    <tr style=\"text-align: right;\">\n",
              "      <th></th>\n",
              "      <th>method</th>\n",
              "      <th>number</th>\n",
              "      <th>orbital_period</th>\n",
              "      <th>mass</th>\n",
              "      <th>distance</th>\n",
              "      <th>year</th>\n",
              "      <th>mass_category</th>\n",
              "    </tr>\n",
              "  </thead>\n",
              "  <tbody>\n",
              "    <tr>\n",
              "      <th>0</th>\n",
              "      <td>Radial Velocity</td>\n",
              "      <td>1</td>\n",
              "      <td>269.300</td>\n",
              "      <td>7.10</td>\n",
              "      <td>77.40</td>\n",
              "      <td>2006</td>\n",
              "      <td>high weight</td>\n",
              "    </tr>\n",
              "    <tr>\n",
              "      <th>1</th>\n",
              "      <td>Radial Velocity</td>\n",
              "      <td>1</td>\n",
              "      <td>874.774</td>\n",
              "      <td>2.21</td>\n",
              "      <td>56.95</td>\n",
              "      <td>2008</td>\n",
              "      <td>middle weight</td>\n",
              "    </tr>\n",
              "    <tr>\n",
              "      <th>2</th>\n",
              "      <td>Radial Velocity</td>\n",
              "      <td>1</td>\n",
              "      <td>763.000</td>\n",
              "      <td>2.60</td>\n",
              "      <td>19.84</td>\n",
              "      <td>2011</td>\n",
              "      <td>middle weight</td>\n",
              "    </tr>\n",
              "    <tr>\n",
              "      <th>3</th>\n",
              "      <td>Radial Velocity</td>\n",
              "      <td>1</td>\n",
              "      <td>326.030</td>\n",
              "      <td>19.40</td>\n",
              "      <td>110.62</td>\n",
              "      <td>2007</td>\n",
              "      <td>high weight</td>\n",
              "    </tr>\n",
              "    <tr>\n",
              "      <th>4</th>\n",
              "      <td>Radial Velocity</td>\n",
              "      <td>1</td>\n",
              "      <td>516.220</td>\n",
              "      <td>10.50</td>\n",
              "      <td>119.47</td>\n",
              "      <td>2009</td>\n",
              "      <td>high weight</td>\n",
              "    </tr>\n",
              "  </tbody>\n",
              "</table>\n",
              "</div>"
            ],
            "text/plain": [
              "            method  number  orbital_period  ...  distance  year  mass_category\n",
              "0  Radial Velocity       1         269.300  ...     77.40  2006    high weight\n",
              "1  Radial Velocity       1         874.774  ...     56.95  2008  middle weight\n",
              "2  Radial Velocity       1         763.000  ...     19.84  2011  middle weight\n",
              "3  Radial Velocity       1         326.030  ...    110.62  2007    high weight\n",
              "4  Radial Velocity       1         516.220  ...    119.47  2009    high weight\n",
              "\n",
              "[5 rows x 7 columns]"
            ]
          },
          "metadata": {
            "tags": []
          },
          "execution_count": 21
        }
      ]
    },
    {
      "cell_type": "code",
      "metadata": {
        "id": "s4bnuEx2mokm",
        "outputId": "8dca4363-1b6c-4301-9fd4-df73a8fc6433",
        "colab": {
          "base_uri": "https://localhost:8080/",
          "height": 297
        }
      },
      "source": [
        "sns.boxplot('orbital_period', y='mass_category', data = planets)\n",
        "plt.xlim(0,3000)"
      ],
      "execution_count": null,
      "outputs": [
        {
          "output_type": "execute_result",
          "data": {
            "text/plain": [
              "(0.0, 3000.0)"
            ]
          },
          "metadata": {
            "tags": []
          },
          "execution_count": 24
        },
        {
          "output_type": "display_data",
          "data": {
            "image/png": "[encoded data removed]",
            "text/plain": [
              "<Figure size 432x288 with 1 Axes>"
            ]
          },
          "metadata": {
            "tags": [],
            "needs_background": "light"
          }
        }
      ]
    },
    {
      "cell_type": "markdown",
      "metadata": {
        "id": "sKCuSUTsdElE"
      },
      "source": [
        "# Example Solution\n",
        "\n",
        "**Question**: Have the most effective discovery method for shorter distance and for longer distance been different? If they were different, which method was the most effective for discovering the nearer planets and which for the farther away ones?\n",
        "\n",
        "**Hypothesis**: Depending on the methods the distribution of distance will be different. The radial velocity will be most effective for the shorter ones and the microlensing method for the farther away ones."
      ]
    },
    {
      "cell_type": "code",
      "metadata": {
        "id": "NP799RkBr841",
        "outputId": "2a484358-c9fc-450f-8f17-d49cd23a9acf",
        "colab": {
          "base_uri": "https://localhost:8080/",
          "height": 297
        }
      },
      "source": [
        "sns.boxplot(x='distance', y='method', data=planets)"
      ],
      "execution_count": null,
      "outputs": [
        {
          "output_type": "execute_result",
          "data": {
            "text/plain": [
              "<matplotlib.axes._subplots.AxesSubplot at 0x7fc3980552e8>"
            ]
          },
          "metadata": {
            "tags": []
          },
          "execution_count": 25
        },
        {
          "output_type": "display_data",
          "data": {
            "image/png": "[encoded data removed]",
            "text/plain": [
              "<Figure size 432x288 with 1 Axes>"
            ]
          },
          "metadata": {
            "tags": [],
            "needs_background": "light"
          }
        }
      ]
    },
    {
      "cell_type": "markdown",
      "metadata": {
        "id": "QGLzDORfgM0k"
      },
      "source": [
        "It seems to be right that the most effective method for the discovery of planets are different depending on distance. Also Microlensing seems to be most effective for the farther distance. But it is hard to compare radial velocity and imaging for the shorter distance. \n",
        "\n",
        "**Subsequent Question**: How do we compare their distribution? Is it possible that one of them has more accumulated numbers only because this methods is developed earlier?\n",
        "\n",
        "**Hypothesis**: Their distribution will be similar in a closer look. The Radial Velocity method has been historically the most efficient method to find planets nearby but the Imaging method is more effective now."
      ]
    },
    {
      "cell_type": "code",
      "metadata": {
        "id": "9BF88P07jNlA",
        "outputId": "a8654aa1-f83f-44e9-f6c3-09d9c86b49af",
        "colab": {
          "base_uri": "https://localhost:8080/",
          "height": 417
        }
      },
      "source": [
        "short = planets[planets['method'].isin(['Radial Velocity', 'Imaging'])]\n",
        "short.head(100)"
      ],
      "execution_count": null,
      "outputs": [
        {
          "output_type": "execute_result",
          "data": {
            "text/html": [
              "<div>\n",
              "<style scoped>\n",
              "    .dataframe tbody tr th:only-of-type {\n",
              "        vertical-align: middle;\n",
              "    }\n",
              "\n",
              "    .dataframe tbody tr th {\n",
              "        vertical-align: top;\n",
              "    }\n",
              "\n",
              "    .dataframe thead th {\n",
              "        text-align: right;\n",
              "    }\n",
              "</style>\n",
              "<table border=\"1\" class=\"dataframe\">\n",
              "  <thead>\n",
              "    <tr style=\"text-align: right;\">\n",
              "      <th></th>\n",
              "      <th>method</th>\n",
              "      <th>number</th>\n",
              "      <th>orbital_period</th>\n",
              "      <th>mass</th>\n",
              "      <th>distance</th>\n",
              "      <th>year</th>\n",
              "    </tr>\n",
              "  </thead>\n",
              "  <tbody>\n",
              "    <tr>\n",
              "      <th>0</th>\n",
              "      <td>Radial Velocity</td>\n",
              "      <td>1</td>\n",
              "      <td>269.30000</td>\n",
              "      <td>7.100</td>\n",
              "      <td>77.40</td>\n",
              "      <td>2006</td>\n",
              "    </tr>\n",
              "    <tr>\n",
              "      <th>1</th>\n",
              "      <td>Radial Velocity</td>\n",
              "      <td>1</td>\n",
              "      <td>874.77400</td>\n",
              "      <td>2.210</td>\n",
              "      <td>56.95</td>\n",
              "      <td>2008</td>\n",
              "    </tr>\n",
              "    <tr>\n",
              "      <th>2</th>\n",
              "      <td>Radial Velocity</td>\n",
              "      <td>1</td>\n",
              "      <td>763.00000</td>\n",
              "      <td>2.600</td>\n",
              "      <td>19.84</td>\n",
              "      <td>2011</td>\n",
              "    </tr>\n",
              "    <tr>\n",
              "      <th>3</th>\n",
              "      <td>Radial Velocity</td>\n",
              "      <td>1</td>\n",
              "      <td>326.03000</td>\n",
              "      <td>19.400</td>\n",
              "      <td>110.62</td>\n",
              "      <td>2007</td>\n",
              "    </tr>\n",
              "    <tr>\n",
              "      <th>4</th>\n",
              "      <td>Radial Velocity</td>\n",
              "      <td>1</td>\n",
              "      <td>516.22000</td>\n",
              "      <td>10.500</td>\n",
              "      <td>119.47</td>\n",
              "      <td>2009</td>\n",
              "    </tr>\n",
              "    <tr>\n",
              "      <th>...</th>\n",
              "      <td>...</td>\n",
              "      <td>...</td>\n",
              "      <td>...</td>\n",
              "      <td>...</td>\n",
              "      <td>...</td>\n",
              "      <td>...</td>\n",
              "    </tr>\n",
              "    <tr>\n",
              "      <th>126</th>\n",
              "      <td>Radial Velocity</td>\n",
              "      <td>4</td>\n",
              "      <td>12.92920</td>\n",
              "      <td>0.017</td>\n",
              "      <td>6.27</td>\n",
              "      <td>2005</td>\n",
              "    </tr>\n",
              "    <tr>\n",
              "      <th>127</th>\n",
              "      <td>Radial Velocity</td>\n",
              "      <td>4</td>\n",
              "      <td>66.80000</td>\n",
              "      <td>0.022</td>\n",
              "      <td>6.27</td>\n",
              "      <td>2005</td>\n",
              "    </tr>\n",
              "    <tr>\n",
              "      <th>128</th>\n",
              "      <td>Radial Velocity</td>\n",
              "      <td>4</td>\n",
              "      <td>3.14942</td>\n",
              "      <td>0.006</td>\n",
              "      <td>6.27</td>\n",
              "      <td>2005</td>\n",
              "    </tr>\n",
              "    <tr>\n",
              "      <th>129</th>\n",
              "      <td>Radial Velocity</td>\n",
              "      <td>1</td>\n",
              "      <td>598.30000</td>\n",
              "      <td>0.328</td>\n",
              "      <td>10.32</td>\n",
              "      <td>2009</td>\n",
              "    </tr>\n",
              "    <tr>\n",
              "      <th>130</th>\n",
              "      <td>Radial Velocity</td>\n",
              "      <td>6</td>\n",
              "      <td>7.20040</td>\n",
              "      <td>0.018</td>\n",
              "      <td>6.80</td>\n",
              "      <td>2011</td>\n",
              "    </tr>\n",
              "  </tbody>\n",
              "</table>\n",
              "<p>100 rows × 6 columns</p>\n",
              "</div>"
            ],
            "text/plain": [
              "              method  number  orbital_period    mass  distance  year\n",
              "0    Radial Velocity       1       269.30000   7.100     77.40  2006\n",
              "1    Radial Velocity       1       874.77400   2.210     56.95  2008\n",
              "2    Radial Velocity       1       763.00000   2.600     19.84  2011\n",
              "3    Radial Velocity       1       326.03000  19.400    110.62  2007\n",
              "4    Radial Velocity       1       516.22000  10.500    119.47  2009\n",
              "..               ...     ...             ...     ...       ...   ...\n",
              "126  Radial Velocity       4        12.92920   0.017      6.27  2005\n",
              "127  Radial Velocity       4        66.80000   0.022      6.27  2005\n",
              "128  Radial Velocity       4         3.14942   0.006      6.27  2005\n",
              "129  Radial Velocity       1       598.30000   0.328     10.32  2009\n",
              "130  Radial Velocity       6         7.20040   0.018      6.80  2011\n",
              "\n",
              "[100 rows x 6 columns]"
            ]
          },
          "metadata": {
            "tags": []
          },
          "execution_count": 5
        }
      ]
    },
    {
      "cell_type": "code",
      "metadata": {
        "id": "NvxM8rcNlKTk",
        "outputId": "be3dc605-fbd4-49c8-a9c6-bf55da6665bf",
        "colab": {
          "base_uri": "https://localhost:8080/",
          "height": 297
        }
      },
      "source": [
        "sns.barplot(x='method', y='distance', data=short)"
      ],
      "execution_count": null,
      "outputs": [
        {
          "output_type": "execute_result",
          "data": {
            "text/plain": [
              "<matplotlib.axes._subplots.AxesSubplot at 0x7fc3a21c4ef0>"
            ]
          },
          "metadata": {
            "tags": []
          },
          "execution_count": 6
        },
        {
          "output_type": "display_data",
          "data": {
            "image/png": "[encoded data removed]",
            "text/plain": [
              "<Figure size 432x288 with 1 Axes>"
            ]
          },
          "metadata": {
            "tags": [],
            "needs_background": "light"
          }
        }
      ]
    },
    {
      "cell_type": "code",
      "metadata": {
        "id": "dERiCQNLl6KU"
      },
      "source": [
        "radial_velocity = planets[planets['method']=='Radial Velocity']\n",
        "imaging = planets[planets['method']=='Imaging']"
      ],
      "execution_count": null,
      "outputs": []
    },
    {
      "cell_type": "code",
      "metadata": {
        "id": "zq4xjcX7mu0N",
        "outputId": "648fc503-200a-4783-82f6-a320fd553065",
        "colab": {
          "base_uri": "https://localhost:8080/",
          "height": 297
        }
      },
      "source": [
        "sns.distplot(radial_velocity['year'], kde=False)"
      ],
      "execution_count": null,
      "outputs": [
        {
          "output_type": "execute_result",
          "data": {
            "text/plain": [
              "<matplotlib.axes._subplots.AxesSubplot at 0x7fc3a21a4240>"
            ]
          },
          "metadata": {
            "tags": []
          },
          "execution_count": 8
        },
        {
          "output_type": "display_data",
          "data": {
            "image/png": "[encoded data removed]",
            "text/plain": [
              "<Figure size 432x288 with 1 Axes>"
            ]
          },
          "metadata": {
            "tags": [],
            "needs_background": "light"
          }
        }
      ]
    },
    {
      "cell_type": "code",
      "metadata": {
        "id": "vvC2ak7HnCHF",
        "outputId": "3b9b0aaf-1153-427c-cbc2-eb8bc2fbfa96",
        "colab": {
          "base_uri": "https://localhost:8080/",
          "height": 297
        }
      },
      "source": [
        "sns.distplot(imaging['year'], kde=False)"
      ],
      "execution_count": null,
      "outputs": [
        {
          "output_type": "execute_result",
          "data": {
            "text/plain": [
              "<matplotlib.axes._subplots.AxesSubplot at 0x7fc3a2680550>"
            ]
          },
          "metadata": {
            "tags": []
          },
          "execution_count": 9
        },
        {
          "output_type": "display_data",
          "data": {
            "image/png": "[encoded data removed]",
            "text/plain": [
              "<Figure size 432x288 with 1 Axes>"
            ]
          },
          "metadata": {
            "tags": [],
            "needs_background": "light"
          }
        }
      ]
    },
    {
      "cell_type": "markdown",
      "metadata": {
        "id": "DPT_fj4XnRlZ"
      },
      "source": [
        "**conclusion**\n",
        "- Depending on the distance the most effective method to find the planets varies. Most of far away planets were found by microlensing and most of nearby planets were found by radial velocity. Although the imaging method was started to be used more recently, the radial velocity method has been far more efficient. "
      ]
    },
    {
      "cell_type": "markdown",
      "metadata": {
        "id": "XWCS2JA9vcQ5"
      },
      "source": [
        "# Group Discussion\n",
        "\n",
        "- share your homework results with others in the groups\n",
        "- The above conclusion is intensionally **wrong**. What is still missing? What would you still visualize and validate more?"
      ]
    },
    {
      "cell_type": "markdown",
      "metadata": {
        "id": "HS_bo2IutyS2"
      },
      "source": [
        "# Checklist\n",
        "\n",
        "**Question! Question! Question!**\n",
        "- Can I answer my question using my dataset? What is missing? Can I extract a new feature to answer my question? How can I even collect more data to answer my question?\n",
        "- Is my conclusion right? What is still not validated or should be checked? Can I dig deeper? Do I have enough domain knowledge to ask and answer a right question?"
      ]
    },
    {
      "cell_type": "markdown",
      "metadata": {
        "id": "qWtvy9M3UCrq"
      },
      "source": [
        "# What is **wrong** with the conclusion?\n",
        "\n",
        "1. Are we sure if the microlensing method has been most effective for the far-away planets?\n",
        " - Is just to see the quantile enough to understand actual counts? No\n",
        " - one should actually compare the counts of the transit method and the microlensing methods to be sure that microlensing is most effective for long distance.\n",
        "\n",
        "2. Are we sure if the radial velocity is most effective recent years for the planets nearby? \n",
        " - Is it right to compare the whole histogram directly between radial velocity and imaging to conclude that radial velocity is most effective for the planets nearby? \n",
        " - the histogram was displayed only by years regardless of the distances of the planets\n",
        "\n",
        "3. There can be maybe some more flaws that I did notice ..."
      ]
    },
    {
      "cell_type": "markdown",
      "metadata": {
        "id": "JAWKOEzBYKDp"
      },
      "source": [
        "Let's start with 1. We first filter the discovery of far-away planets from the transit method and the microlensing method.\n",
        "We assume the planets with the distance 2000 or greater are far-away planets.\n",
        "(You can change the definition as you want.) "
      ]
    },
    {
      "cell_type": "code",
      "metadata": {
        "id": "-QvuMq1JXUWQ",
        "outputId": "83b06298-34f6-42ba-e0d3-c84b995add9a",
        "colab": {
          "base_uri": "https://localhost:8080/",
          "height": 325
        }
      },
      "source": [
        "transit_far_away = planets[(planets['method']=='Transit') & (planets['distance'] > 1900.0)]\n",
        "microlensing_far_away = planets[(planets['method']=='Microlensing') & (planets['distance'] > 1900.0)]\n",
        "\n",
        "f, axes = plt.subplots(1, 2)\n",
        "\n",
        "ax = sns.distplot(transit_far_away['distance'], kde=False, ax=axes[0], bins=3)\n",
        "ax = sns.distplot(microlensing_far_away['distance'], kde=False, ax=axes[1], bins=3)\n",
        "f.suptitle('left: transit right: microlensing')"
      ],
      "execution_count": null,
      "outputs": [
        {
          "output_type": "execute_result",
          "data": {
            "text/plain": [
              "Text(0.5, 0.98, 'left: transit right: microlensing')"
            ]
          },
          "metadata": {
            "tags": []
          },
          "execution_count": 27
        },
        {
          "output_type": "display_data",
          "data": {
            "image/png": "[encoded data removed]",
            "text/plain": [
              "<Figure size 432x288 with 2 Axes>"
            ]
          },
          "metadata": {
            "tags": []
          }
        }
      ]
    },
    {
      "cell_type": "markdown",
      "metadata": {
        "id": "_AVtPm6qh9p_"
      },
      "source": [
        "Actually the transit and the microlensing methods  are showing actually quite similar performance or the transit is doing a little bit better. The previous conclusion about the microlensing was drawn too hastly. \n",
        "\n",
        "Let's try a similar exercise for 2. We define again recent years as after 2012."
      ]
    },
    {
      "cell_type": "code",
      "metadata": {
        "id": "BNIBfq06Z-It",
        "outputId": "a7ef16ef-057b-4daf-e549-c4ab468662a3",
        "colab": {
          "base_uri": "https://localhost:8080/",
          "height": 342
        }
      },
      "source": [
        "radial_velocity_recent = planets[(planets['method']=='Radial Velocity') & (planets['year'] >= 2012)]\n",
        "imaging_recent = planets[(planets['method']=='Imaging') & (planets['year'] >= 2012)]\n",
        "\n",
        "f, axes = plt.subplots(1, 2)\n",
        "\n",
        "ax = sns.distplot(radial_velocity_recent['distance'], kde=False, ax=axes[0], bins=30)\n",
        "ax = sns.distplot(imaging_recent['distance'], kde=False, ax=axes[1], bins=15)\n",
        "f.suptitle('left: radial_velocity right: imaging')"
      ],
      "execution_count": null,
      "outputs": [
        {
          "output_type": "stream",
          "text": [
            "78 9\n"
          ],
          "name": "stdout"
        },
        {
          "output_type": "execute_result",
          "data": {
            "text/plain": [
              "Text(0.5, 0.98, 'left: radial_velocity right: imaging')"
            ]
          },
          "metadata": {
            "tags": []
          },
          "execution_count": 31
        },
        {
          "output_type": "display_data",
          "data": {
            "image/png": "[encoded data removed]",
            "text/plain": [
              "<Figure size 432x288 with 2 Axes>"
            ]
          },
          "metadata": {
            "tags": []
          }
        }
      ]
    },
    {
      "cell_type": "markdown",
      "metadata": {
        "id": "m-OerpISlpJK"
      },
      "source": [
        "Fortunately the conclusion is still right: the radial velocity was most effective methods for discoverying far-away planets recent years because the number of discoveries by radial velocity is significantly more. We need to be still careful before drawing the conclusion. "
      ]
    }
  ]
}